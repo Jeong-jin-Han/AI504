{
  "cells": [
    {
      "cell_type": "code",
      "execution_count": null,
      "metadata": {
        "id": "KAJ1rrCpauzn"
      },
      "outputs": [],
      "source": [
        "import numpy as np"
      ]
    },
    {
      "cell_type": "code",
      "execution_count": null,
      "metadata": {
        "id": "sGZdtpTKauzo"
      },
      "outputs": [],
      "source": [
        "def print_obj(obj, name):\n",
        "    print(\"%s:\\n%s\\n\" % (name, obj))\n",
        "\n",
        "def check_each(a, b):\n",
        "    return (a == b).astype('bool')\n",
        "\n",
        "def check_mean(a, b):\n",
        "    return np.mean(a == b).astype('bool')"
      ]
    },
    {
      "cell_type": "markdown",
      "metadata": {
        "id": "T2Zt6bCSauzo"
      },
      "source": [
        "### Scalars, Vectors, Matrices"
      ]
    },
    {
      "cell_type": "code",
      "execution_count": null,
      "metadata": {
        "id": "_j3G2H2Qauzp"
      },
      "outputs": [],
      "source": [
        "a = np.array(1.)\n",
        "b = np.array([1., 2., 3.])\n",
        "c = np.array([[1., 2., 3.], [4., 5., 6.]])"
      ]
    },
    {
      "cell_type": "code",
      "execution_count": null,
      "metadata": {
        "id": "zBhNUT_hauzp",
        "colab": {
          "base_uri": "https://localhost:8080/"
        },
        "outputId": "f24ff61f-5843-4545-b56e-0804b017e107"
      },
      "outputs": [
        {
          "output_type": "stream",
          "name": "stdout",
          "text": [
            "a:\n",
            "1.0\n",
            "\n",
            "b:\n",
            "[1. 2. 3.]\n",
            "\n",
            "c:\n",
            "[[1. 2. 3.]\n",
            " [4. 5. 6.]]\n",
            "\n"
          ]
        }
      ],
      "source": [
        "print_obj(a, \"a\")\n",
        "print_obj(b, \"b\")\n",
        "print_obj(c, \"c\")"
      ]
    },
    {
      "cell_type": "code",
      "execution_count": null,
      "metadata": {
        "id": "whR1NdkEauzp",
        "colab": {
          "base_uri": "https://localhost:8080/"
        },
        "outputId": "6bf99237-df0a-478b-8f76-669e7292a03f"
      },
      "outputs": [
        {
          "output_type": "stream",
          "name": "stdout",
          "text": [
            "a.ndim:\n",
            "0\n",
            "\n",
            "b.ndim:\n",
            "1\n",
            "\n",
            "c.ndim:\n",
            "2\n",
            "\n"
          ]
        }
      ],
      "source": [
        "print_obj(a.ndim, \"a.ndim\")\n",
        "print_obj(b.ndim, \"b.ndim\")\n",
        "print_obj(c.ndim, \"c.ndim\")"
      ]
    },
    {
      "cell_type": "code",
      "execution_count": null,
      "metadata": {
        "id": "Gjn1h8lSauzp",
        "colab": {
          "base_uri": "https://localhost:8080/"
        },
        "outputId": "27fd494a-bde9-4965-ff0c-ba50c5d65dd9"
      },
      "outputs": [
        {
          "output_type": "stream",
          "name": "stdout",
          "text": [
            "a.shape:\n",
            "()\n",
            "\n",
            "b.shape:\n",
            "(3,)\n",
            "\n",
            "c.shape:\n",
            "(2, 3)\n",
            "\n"
          ]
        }
      ],
      "source": [
        "print_obj(a.shape, \"a.shape\")\n",
        "print_obj(b.shape, \"b.shape\")\n",
        "print_obj(c.shape, \"c.shape\")"
      ]
    },
    {
      "cell_type": "markdown",
      "metadata": {
        "id": "4iqFCL8_auzp"
      },
      "source": [
        "### Tensors (N-dimensional array)"
      ]
    },
    {
      "cell_type": "code",
      "execution_count": null,
      "metadata": {
        "id": "2VXC-IRkauzp"
      },
      "outputs": [],
      "source": [
        "d = np.array([[[1., 2., 3.], [4., 5., 6.]], [[7., 8., 9.], [10., 11., 12.]]])\n",
        "e = np.array([[[[1., 2., 3.], [1., 2., 3.]], [[4., 5., 6.], [4., 5., 6.]]],\n",
        "              [[[7., 8., 9.], [7., 8., 9.]], [[10., 11., 12.], [10., 11., 12.]]]])"
      ]
    },
    {
      "cell_type": "code",
      "execution_count": null,
      "metadata": {
        "id": "4pdtZcDcauzp",
        "colab": {
          "base_uri": "https://localhost:8080/"
        },
        "outputId": "7608cdfe-8b82-464a-e134-ecdaaf167e5f"
      },
      "outputs": [
        {
          "output_type": "stream",
          "name": "stdout",
          "text": [
            "d:\n",
            "[[[ 1.  2.  3.]\n",
            "  [ 4.  5.  6.]]\n",
            "\n",
            " [[ 7.  8.  9.]\n",
            "  [10. 11. 12.]]]\n",
            "\n",
            "d.ndim:\n",
            "3\n",
            "\n",
            "d.shape:\n",
            "(2, 2, 3)\n",
            "\n",
            "e:\n",
            "[[[[ 1.  2.  3.]\n",
            "   [ 1.  2.  3.]]\n",
            "\n",
            "  [[ 4.  5.  6.]\n",
            "   [ 4.  5.  6.]]]\n",
            "\n",
            "\n",
            " [[[ 7.  8.  9.]\n",
            "   [ 7.  8.  9.]]\n",
            "\n",
            "  [[10. 11. 12.]\n",
            "   [10. 11. 12.]]]]\n",
            "\n",
            "e.ndim:\n",
            "4\n",
            "\n",
            "e.shape:\n",
            "(2, 2, 2, 3)\n",
            "\n"
          ]
        }
      ],
      "source": [
        "print_obj(d, \"d\")\n",
        "print_obj(d.ndim, \"d.ndim\")\n",
        "print_obj(d.shape, \"d.shape\")\n",
        "\n",
        "print_obj(e, \"e\")\n",
        "print_obj(e.ndim, \"e.ndim\")\n",
        "print_obj(e.shape, \"e.shape\")"
      ]
    },
    {
      "cell_type": "code",
      "execution_count": null,
      "metadata": {
        "id": "gF_gCSbVauzp",
        "colab": {
          "base_uri": "https://localhost:8080/",
          "height": 89
        },
        "outputId": "6a2adbb3-a885-41f7-a4fe-4639678a6daf"
      },
      "outputs": [
        {
          "output_type": "stream",
          "name": "stdout",
          "text": [
            "f.shape:\n",
            "(2, 3, 1)\n",
            "\n"
          ]
        },
        {
          "output_type": "execute_result",
          "data": {
            "text/plain": [
              "'\\n2, 3, 1\\n'"
            ],
            "application/vnd.google.colaboratory.intrinsic+json": {
              "type": "string"
            }
          },
          "metadata": {},
          "execution_count": 8
        }
      ],
      "source": [
        "# Quiz: What is the shape of [[[1], [2], [3]], [[4], [5], [6]]]?\n",
        "f = np.array([[[1], [2], [3]], [[4], [5], [6]]])\n",
        "print_obj(f.shape, \"f.shape\")\n",
        "\"\"\"\n",
        "2, 3, 1\n",
        "\"\"\""
      ]
    },
    {
      "cell_type": "markdown",
      "metadata": {
        "id": "HYtFIXnhauzq"
      },
      "source": [
        "### Defining Numpy arrays"
      ]
    },
    {
      "cell_type": "code",
      "execution_count": null,
      "metadata": {
        "id": "gTrrhxm2auzq",
        "colab": {
          "base_uri": "https://localhost:8080/"
        },
        "outputId": "c7406ea7-8060-4427-f996-2677eeedbe89"
      },
      "outputs": [
        {
          "output_type": "execute_result",
          "data": {
            "text/plain": [
              "array([1., 1., 1., 1., 1., 1., 1., 1., 1., 1.])"
            ]
          },
          "metadata": {},
          "execution_count": 11
        }
      ],
      "source": [
        "a = np.ones(10)\n",
        "a"
      ]
    },
    {
      "cell_type": "code",
      "execution_count": null,
      "metadata": {
        "id": "F17K3viFauzq",
        "colab": {
          "base_uri": "https://localhost:8080/"
        },
        "outputId": "02718bc6-c833-45a2-cb02-a641877e9b0b"
      },
      "outputs": [
        {
          "output_type": "execute_result",
          "data": {
            "text/plain": [
              "array([[0., 0., 0., 0., 0.],\n",
              "       [0., 0., 0., 0., 0.]])"
            ]
          },
          "metadata": {},
          "execution_count": 12
        }
      ],
      "source": [
        "a = np.zeros((2, 5))\n",
        "a"
      ]
    },
    {
      "cell_type": "code",
      "source": [],
      "metadata": {
        "id": "uldrzdhk3Tzb"
      },
      "execution_count": null,
      "outputs": []
    },
    {
      "cell_type": "code",
      "execution_count": null,
      "metadata": {
        "id": "CxjujHBKauzq",
        "colab": {
          "base_uri": "https://localhost:8080/"
        },
        "outputId": "11efaf9a-1aa7-4e67-de2c-93c5cdadf902"
      },
      "outputs": [
        {
          "output_type": "execute_result",
          "data": {
            "text/plain": [
              "array([[5, 5, 5, 5, 5],\n",
              "       [5, 5, 5, 5, 5]])"
            ]
          },
          "metadata": {},
          "execution_count": 13
        }
      ],
      "source": [
        "a = np.full((2,5), 5)\n",
        "a"
      ]
    },
    {
      "cell_type": "code",
      "execution_count": null,
      "metadata": {
        "id": "yC0NSF-9auzq",
        "colab": {
          "base_uri": "https://localhost:8080/"
        },
        "outputId": "aaf5d087-992b-4e18-ec57-b7d54f0ff92c"
      },
      "outputs": [
        {
          "output_type": "execute_result",
          "data": {
            "text/plain": [
              "array([[[0.29719409, 0.73677082, 0.37330065, 0.83363361],\n",
              "        [0.87772577, 0.20471488, 0.20896484, 0.8358938 ],\n",
              "        [0.27679176, 0.61978272, 0.34352378, 0.71452133]],\n",
              "\n",
              "       [[0.86462352, 0.81833099, 0.94438681, 0.31380379],\n",
              "        [0.66513645, 0.72246687, 0.03194947, 0.79856218],\n",
              "        [0.48486806, 0.82555099, 0.36672596, 0.16938926]]])"
            ]
          },
          "metadata": {},
          "execution_count": 14
        }
      ],
      "source": [
        "a = np.random.random((2, 3, 4))\n",
        "a"
      ]
    },
    {
      "cell_type": "code",
      "execution_count": null,
      "metadata": {
        "id": "npzHaPL0auzq",
        "colab": {
          "base_uri": "https://localhost:8080/"
        },
        "outputId": "409d4243-3d5b-4799-a438-e9390a3b472c"
      },
      "outputs": [
        {
          "output_type": "execute_result",
          "data": {
            "text/plain": [
              "array([0, 1, 2, 3, 4, 5, 6, 7, 8, 9])"
            ]
          },
          "metadata": {},
          "execution_count": 15
        }
      ],
      "source": [
        "a = np.arange(10)\n",
        "a"
      ]
    },
    {
      "cell_type": "code",
      "execution_count": null,
      "metadata": {
        "id": "ie4NIEjpauzq",
        "colab": {
          "base_uri": "https://localhost:8080/"
        },
        "outputId": "b2db4814-2f8d-4851-91b3-d65fa64fc643"
      },
      "outputs": [
        {
          "output_type": "execute_result",
          "data": {
            "text/plain": [
              "array([0., 1., 2., 3., 4., 5., 6., 7., 8., 9.])"
            ]
          },
          "metadata": {},
          "execution_count": 16
        }
      ],
      "source": [
        "a = np.arange(10).astype(float)\n",
        "a"
      ]
    },
    {
      "cell_type": "code",
      "execution_count": null,
      "metadata": {
        "id": "kKFgHTJwauzq",
        "colab": {
          "base_uri": "https://localhost:8080/"
        },
        "outputId": "566fb061-dabf-433d-9a13-5dbe2b4718df"
      },
      "outputs": [
        {
          "output_type": "execute_result",
          "data": {
            "text/plain": [
              "array([[0, 1],\n",
              "       [2, 3],\n",
              "       [4, 5],\n",
              "       [6, 7],\n",
              "       [8, 9]])"
            ]
          },
          "metadata": {},
          "execution_count": 17
        }
      ],
      "source": [
        "a = np.arange(10).reshape((5,2))\n",
        "a"
      ]
    },
    {
      "cell_type": "code",
      "execution_count": null,
      "metadata": {
        "id": "vA_wN5iHauzq",
        "colab": {
          "base_uri": "https://localhost:8080/"
        },
        "outputId": "ef37303d-404d-4256-a32c-70ef82e46fe9"
      },
      "outputs": [
        {
          "output_type": "execute_result",
          "data": {
            "text/plain": [
              "array([[[ 0.,  1.],\n",
              "        [ 2.,  3.],\n",
              "        [ 4.,  5.]],\n",
              "\n",
              "       [[ 6.,  7.],\n",
              "        [ 8.,  9.],\n",
              "        [10., 11.]],\n",
              "\n",
              "       [[12., 13.],\n",
              "        [14., 15.],\n",
              "        [16., 17.]],\n",
              "\n",
              "       [[18., 19.],\n",
              "        [20., 21.],\n",
              "        [22., 23.]]])"
            ]
          },
          "metadata": {},
          "execution_count": 20
        }
      ],
      "source": [
        "# Quiz: Create a 4-by-3-by-2 tensor filled with 0.0 to 23.0\n",
        "\n",
        "# np.arange(24).astype(float).reshape((4,3,2))\n",
        "# you can also change the order reshape((4,3,2)).astype(float)\n",
        "np.arange(24.0).reshape((4,3,2))"
      ]
    },
    {
      "cell_type": "markdown",
      "metadata": {
        "id": "pYVZHt07auzq"
      },
      "source": [
        "### Indexing & Slicing"
      ]
    },
    {
      "cell_type": "code",
      "execution_count": null,
      "metadata": {
        "id": "S8tSLByCauzq",
        "colab": {
          "base_uri": "https://localhost:8080/"
        },
        "outputId": "aab862c9-0ad6-4f46-c00b-257c501ec7a7"
      },
      "outputs": [
        {
          "output_type": "stream",
          "name": "stdout",
          "text": [
            "a:\n",
            "[0 1 2 3 4 5 6 7 8 9]\n",
            "\n",
            "a[0]:\n",
            "0\n",
            "\n",
            "a[1]:\n",
            "1\n",
            "\n",
            "a[-1]:\n",
            "9\n",
            "\n",
            "a[-3]:\n",
            "7\n",
            "\n",
            "a[0:10]:\n",
            "[0 1 2 3 4 5 6 7 8 9]\n",
            "\n",
            "a[0:]:\n",
            "[0 1 2 3 4 5 6 7 8 9]\n",
            "\n",
            "a[:10]:\n",
            "[0 1 2 3 4 5 6 7 8 9]\n",
            "\n",
            "a[:]:\n",
            "[0 1 2 3 4 5 6 7 8 9]\n",
            "\n",
            "a[7:]:\n",
            "[7 8 9]\n",
            "\n",
            "a[:5]:\n",
            "[0 1 2 3 4]\n",
            "\n",
            "a[2:5]:\n",
            "[2 3 4]\n",
            "\n",
            "a[-4:]:\n",
            "[6 7 8 9]\n",
            "\n",
            "a[:-8]:\n",
            "[0 1]\n",
            "\n",
            "a[0:10:2]:\n",
            "[0 2 4 6 8]\n",
            "\n",
            "a[0:10:3]:\n",
            "[0 3 6 9]\n",
            "\n",
            "a[2:6:3]:\n",
            "[2 5]\n",
            "\n",
            "a[::-1]:\n",
            "[9 8 7 6 5 4 3 2 1 0]\n",
            "\n",
            "a[8:5:-1]:\n",
            "[8 7 6]\n",
            "\n",
            "a[8:5]:\n",
            "[]\n",
            "\n",
            "a[9:2:-3]:\n",
            "[9 6 3]\n",
            "\n"
          ]
        }
      ],
      "source": [
        "# Indexing and slicing a vector\n",
        "a = np.arange(10)\n",
        "print_obj(a, \"a\")\n",
        "\n",
        "print_obj(a[0], \"a[0]\")\n",
        "print_obj(a[1], \"a[1]\")\n",
        "print_obj(a[-1], \"a[-1]\")\n",
        "print_obj(a[-3], \"a[-3]\")\n",
        "\n",
        "print_obj(a[0:10], \"a[0:10]\")\n",
        "print_obj(a[0:], \"a[0:]\")\n",
        "print_obj(a[:10], \"a[:10]\")\n",
        "print_obj(a[:], \"a[:]\")\n",
        "\n",
        "print_obj(a[7:], \"a[7:]\")\n",
        "print_obj(a[:5], \"a[:5]\")\n",
        "print_obj(a[2:5], \"a[2:5]\")\n",
        "\n",
        "# Quiz: What is a[-4:]?\n",
        "print_obj(a[-4:], \"a[-4:]\")\n",
        "# Quiz: What is a[:-8]?\n",
        "print_obj(a[:-8], \"a[:-8]\")\n",
        "\n",
        "print_obj(a[0:10:2], \"a[0:10:2]\")\n",
        "print_obj(a[0:10:3], \"a[0:10:3]\")\n",
        "print_obj(a[2:6:3], \"a[2:6:3]\")\n",
        "\n",
        "print_obj(a[::-1], \"a[::-1]\")\n",
        "print_obj(a[8:5:-1], \"a[8:5:-1]\")\n",
        "print_obj(a[8:5], \"a[8:5]\")\n",
        "\n",
        "# Quiz: Create [9, 6, 3] using a.\n",
        "print_obj(a[9:2:-3], \"a[9:2:-3]\")\n",
        "# a[-1:1:-3]"
      ]
    },
    {
      "cell_type": "code",
      "execution_count": null,
      "metadata": {
        "id": "bD13t4iEauzr",
        "colab": {
          "base_uri": "https://localhost:8080/"
        },
        "outputId": "8138072a-5971-459f-b983-40d5c65f9abb"
      },
      "outputs": [
        {
          "output_type": "stream",
          "name": "stdout",
          "text": [
            "a:\n",
            "[[0 1 2]\n",
            " [3 4 5]\n",
            " [6 7 8]]\n",
            "\n",
            "a[0][0]:\n",
            "0\n",
            "\n",
            "a[0,0]:\n",
            "0\n",
            "\n",
            "a[1,1]:\n",
            "4\n",
            "\n",
            "[6 7 8]\n",
            "[1 4 7]\n",
            "[8 5]\n"
          ]
        }
      ],
      "source": [
        "# Indexing a matrix\n",
        "a = np.arange(9).reshape((3,3))\n",
        "print_obj(a, \"a\")\n",
        "print_obj(a[0][0], \"a[0][0]\")\n",
        "print_obj(a[0,0], \"a[0,0]\")\n",
        "print_obj(a[1,1], \"a[1,1]\")\n",
        "\n",
        "# Quiz: How to access the last row?\n",
        "# print(a[2])\n",
        "# a[-1], a[-1, :]\n",
        "print(a[-1, :])# whole column\n",
        "# (row, column)\n",
        "# Quiz: How to access the second column?\n",
        "print(a[:, -2])# whole row\n",
        "# Quiz: How to create [8, 5] using a?\n",
        "print(a[:0:-1, -1])\n",
        "# a[[2, 1], [2, 2]]"
      ]
    },
    {
      "cell_type": "code",
      "execution_count": null,
      "metadata": {
        "id": "29gtF8Csauzr",
        "colab": {
          "base_uri": "https://localhost:8080/"
        },
        "outputId": "1e255038-1b62-4836-87c2-753afc7a85b3"
      },
      "outputs": [
        {
          "output_type": "stream",
          "name": "stdout",
          "text": [
            "a:\n",
            "[[[ 0  1]\n",
            "  [ 2  3]\n",
            "  [ 4  5]]\n",
            "\n",
            " [[ 6  7]\n",
            "  [ 8  9]\n",
            "  [10 11]]\n",
            "\n",
            " [[12 13]\n",
            "  [14 15]\n",
            "  [16 17]]\n",
            "\n",
            " [[18 19]\n",
            "  [20 21]\n",
            "  [22 23]]]\n",
            "\n",
            "a[2, 1, 0]:\n",
            "14\n",
            "\n",
            "[[0 1]\n",
            " [2 3]\n",
            " [4 5]]\n",
            "[2 3]\n",
            "b:\n",
            "[[ 0  2  4]\n",
            " [ 6  8 10]]\n",
            "\n"
          ]
        }
      ],
      "source": [
        "# Indexing and slicing a 3D tensor\n",
        "a = np.arange(4*3*2).reshape((4, 3, 2))\n",
        "print_obj(a, \"a\")\n",
        "print_obj(a[2, 1, 0], \"a[2, 1, 0]\")\n",
        "\n",
        "# Quiz: What would be a[0]?\n",
        "print(a[0])\n",
        "# Quiz: What would be a[0, 1]?\n",
        "print(a[0][1])\n",
        "# Quiz: Create [[0, 2, 4], [6, 8, 10]]\n",
        "b = np.array([a[0, :, 0], a[1, :, 0]])\n",
        "print_obj(b, \"b\")"
      ]
    },
    {
      "cell_type": "code",
      "execution_count": null,
      "metadata": {
        "id": "PrwK-rpUauzr",
        "colab": {
          "base_uri": "https://localhost:8080/"
        },
        "outputId": "c9c2e96a-3e04-4253-ea9b-6ff79ac3e070"
      },
      "outputs": [
        {
          "output_type": "stream",
          "name": "stdout",
          "text": [
            "a:\n",
            "[[0 1]\n",
            " [2 3]\n",
            " [4 5]]\n",
            "\n",
            "idx:\n",
            "[[ True False]\n",
            " [ True False]\n",
            " [ True False]]\n",
            "\n",
            "[0 2 4]\n",
            "[[False False]\n",
            " [False  True]\n",
            " [ True  True]]\n",
            "[3 4 5]\n"
          ]
        }
      ],
      "source": [
        "# Conditional indexing\n",
        "a = np.arange(3*2).reshape((3,2))\n",
        "print_obj(a, \"a\")\n",
        "\n",
        "idx = a % 2 == 0\n",
        "print_obj(idx, \"idx\")\n",
        "print(a[idx])\n",
        "\n",
        "# Quiz: How would you create [3, 4, 5] using a?\n",
        "idx2 = a >=3\n",
        "print(idx2)\n",
        "print(a[idx2])"
      ]
    },
    {
      "cell_type": "code",
      "execution_count": null,
      "metadata": {
        "id": "9KieCF8Dauzr",
        "colab": {
          "base_uri": "https://localhost:8080/"
        },
        "outputId": "e0ee4966-265e-48f0-ee89-f9cfcdadab86"
      },
      "outputs": [
        {
          "output_type": "stream",
          "name": "stdout",
          "text": [
            "[0 1 2 3 4 5 6 7 8 9]\n",
            "a[idx]:\n",
            "[0 2 3]\n",
            "\n",
            "[9 8 7]\n"
          ]
        }
      ],
      "source": [
        "# Taking specific elements from a vector\n",
        "a = np.arange(10)\n",
        "print(a)\n",
        "idx = [0, 2, 3]\n",
        "print_obj(a[idx], \"a[idx]\")\n",
        "print(a[[-1,-2,-3]])"
      ]
    },
    {
      "cell_type": "code",
      "execution_count": null,
      "metadata": {
        "id": "d3xnhS6Kauzr",
        "colab": {
          "base_uri": "https://localhost:8080/"
        },
        "outputId": "148d3a62-1e0c-416c-b60d-ab4edad1b843"
      },
      "outputs": [
        {
          "output_type": "stream",
          "name": "stdout",
          "text": [
            "a:\n",
            "[[ 0  1  2  3]\n",
            " [ 4  5  6  7]\n",
            " [ 8  9 10 11]\n",
            " [12 13 14 15]\n",
            " [16 17 18 19]\n",
            " [20 21 22 23]]\n",
            "\n",
            "a[idx]:\n",
            "[[ 0  2  3]\n",
            " [ 4  6  7]\n",
            " [ 8 10 11]\n",
            " [12 14 15]\n",
            " [16 18 19]\n",
            " [20 22 23]]\n",
            "\n",
            "a[idx]:\n",
            "[[ 0  1  2  3]\n",
            " [ 8  9 10 11]\n",
            " [12 13 14 15]]\n",
            "\n",
            "tuple indexing:\n",
            "[ 1  2  4 23]\n",
            "\n",
            "ndarray indexing:\n",
            "[[[ 0  1  2  3]\n",
            "  [ 0  1  2  3]\n",
            "  [ 4  5  6  7]\n",
            "  [20 21 22 23]]\n",
            "\n",
            " [[ 4  5  6  7]\n",
            "  [ 8  9 10 11]\n",
            "  [ 0  1  2  3]\n",
            "  [12 13 14 15]]]\n",
            "\n"
          ]
        }
      ],
      "source": [
        "# Taking specific elements from a tensor\n",
        "a = np.arange(24).reshape((6,4))\n",
        "print_obj(a, \"a\")\n",
        "\n",
        "print_obj(a[:,[0, 2, 3]], \"a[idx]\") # all the rows\n",
        "print_obj(a[[0, 2, 3], :], \"a[idx]\")\n",
        "idx = ((0,0,1,5),(1,2,0,3))\n",
        "print_obj(a[idx], \"tuple indexing\")\n",
        "idx = np.array([[0,0,1,5],[1,2,0,3]])\n",
        "print_obj(a[idx], \"ndarray indexing\") #<-??"
      ]
    },
    {
      "cell_type": "code",
      "source": [
        "# Ellipsis\n",
        "a = np.arange(288).reshape((2,3,2,2,4,-1))# -1 is equl to the 3\n",
        "print_obj(a.shape, \"a.shape\")\n",
        "\n",
        "print_obj(a[1,:,:,:,:,2], \"Plain indexing\")\n",
        "print_obj(a[1,...,2], \"Ellipsis\")"
      ],
      "metadata": {
        "id": "PSN-v2S1lPUZ",
        "colab": {
          "base_uri": "https://localhost:8080/"
        },
        "outputId": "81cfe67a-6c45-4e17-d8ac-a0fa763cd4f0"
      },
      "execution_count": null,
      "outputs": [
        {
          "output_type": "stream",
          "name": "stdout",
          "text": [
            "a.shape:\n",
            "(2, 3, 2, 2, 4, 3)\n",
            "\n",
            "Plain indexing:\n",
            "[[[[146 149 152 155]\n",
            "   [158 161 164 167]]\n",
            "\n",
            "  [[170 173 176 179]\n",
            "   [182 185 188 191]]]\n",
            "\n",
            "\n",
            " [[[194 197 200 203]\n",
            "   [206 209 212 215]]\n",
            "\n",
            "  [[218 221 224 227]\n",
            "   [230 233 236 239]]]\n",
            "\n",
            "\n",
            " [[[242 245 248 251]\n",
            "   [254 257 260 263]]\n",
            "\n",
            "  [[266 269 272 275]\n",
            "   [278 281 284 287]]]]\n",
            "\n",
            "Ellipsis:\n",
            "[[[[146 149 152 155]\n",
            "   [158 161 164 167]]\n",
            "\n",
            "  [[170 173 176 179]\n",
            "   [182 185 188 191]]]\n",
            "\n",
            "\n",
            " [[[194 197 200 203]\n",
            "   [206 209 212 215]]\n",
            "\n",
            "  [[218 221 224 227]\n",
            "   [230 233 236 239]]]\n",
            "\n",
            "\n",
            " [[[242 245 248 251]\n",
            "   [254 257 260 263]]\n",
            "\n",
            "  [[266 269 272 275]\n",
            "   [278 281 284 287]]]]\n",
            "\n"
          ]
        }
      ]
    },
    {
      "cell_type": "markdown",
      "metadata": {
        "id": "QWgT3Q4Yauzr"
      },
      "source": [
        "### Math Operations"
      ]
    },
    {
      "cell_type": "code",
      "execution_count": null,
      "metadata": {
        "id": "7aIvGef4auzr",
        "colab": {
          "base_uri": "https://localhost:8080/"
        },
        "outputId": "783eb068-a9ed-48fb-9fcf-88ab93504d0f"
      },
      "outputs": [
        {
          "output_type": "stream",
          "name": "stdout",
          "text": [
            "a:\n",
            "[[0 1]\n",
            " [2 3]\n",
            " [4 5]]\n",
            "\n",
            "b:\n",
            "[[1. 1.]\n",
            " [1. 1.]\n",
            " [1. 1.]]\n",
            "\n",
            "a+b:\n",
            "[[1. 2.]\n",
            " [3. 4.]\n",
            " [5. 6.]]\n",
            "\n",
            "a-b:\n",
            "[[-1.  0.]\n",
            " [ 1.  2.]\n",
            " [ 3.  4.]]\n",
            "\n",
            "a*b:\n",
            "[[0. 1.]\n",
            " [2. 3.]\n",
            " [4. 5.]]\n",
            "\n",
            "a/b:\n",
            "[[0. 1.]\n",
            " [2. 3.]\n",
            " [4. 5.]]\n",
            "\n"
          ]
        }
      ],
      "source": [
        "# Basic operations\n",
        "a = np.arange(6).reshape((3, 2))\n",
        "b = np.ones((3, 2))\n",
        "print_obj(a, \"a\")\n",
        "print_obj(b, \"b\")\n",
        "\n",
        "# +, -, *, /\n",
        "print_obj(a+b, \"a+b\")\n",
        "print_obj(a-b, \"a-b\")\n",
        "print_obj(a*b, \"a*b\")\n",
        "print_obj(a/b, \"a/b\")"
      ]
    },
    {
      "cell_type": "code",
      "execution_count": null,
      "metadata": {
        "id": "6_nBg_mKauzr",
        "colab": {
          "base_uri": "https://localhost:8080/"
        },
        "outputId": "e4e7b2da-675a-4237-c70a-351353ce4dec"
      },
      "outputs": [
        {
          "output_type": "stream",
          "name": "stdout",
          "text": [
            "a:\n",
            "[[0 1]\n",
            " [2 3]\n",
            " [4 5]]\n",
            "\n",
            "a.sum():\n",
            "15\n",
            "\n",
            "a.sum(axis=0):\n",
            "[6 9]\n",
            "\n",
            "a.sum(axis=1):\n",
            "[1 5 9]\n",
            "\n",
            "a.mean():\n",
            "2.5\n",
            "\n",
            "a.max():\n",
            "5\n",
            "\n",
            "a.min():\n",
            "0\n",
            "\n",
            "b:\n",
            "[[[ 0  1  2  3]\n",
            "  [ 4  5  6  7]\n",
            "  [ 8  9 10 11]]\n",
            "\n",
            " [[12 13 14 15]\n",
            "  [16 17 18 19]\n",
            "  [20 21 22 23]]]\n",
            "\n",
            "b.mean(axis=2):\n",
            "[[ 1.5  5.5  9.5]\n",
            " [13.5 17.5 21.5]]\n",
            "\n"
          ]
        }
      ],
      "source": [
        "# Unary operations\n",
        "a = np.arange(6).reshape((3,2))\n",
        "print_obj(a, \"a\")\n",
        "\n",
        "print_obj(a.sum(), \"a.sum()\")\n",
        "print_obj(a.sum(axis=0), \"a.sum(axis=0)\")# row wise addition\n",
        "print_obj(a.sum(axis=1), \"a.sum(axis=1)\")# column wise addition\n",
        "\n",
        "print_obj(a.mean(), \"a.mean()\")\n",
        "# a.mean(axis=0)\n",
        "print_obj(a.max(), \"a.max()\")\n",
        "# a.max(axis=0)\n",
        "print_obj(a.min(), \"a.min()\")\n",
        "\n",
        "# Quiz: Given a = np.arange(24).reshape((2,3,4)), what is the mean of the sum w.r.t to the last dimension? <-??\n",
        "b = np.arange(24).reshape((2,3,4))\n",
        "print_obj(b, \"b\")\n",
        "print_obj(b.mean(axis=2), \"b.mean(axis=2)\")"
      ]
    },
    {
      "cell_type": "code",
      "execution_count": null,
      "metadata": {
        "id": "pr8uosCxauzr",
        "colab": {
          "base_uri": "https://localhost:8080/"
        },
        "outputId": "b012ce84-ff2c-4a07-8d4b-01e3b0d57168"
      },
      "outputs": [
        {
          "output_type": "stream",
          "name": "stdout",
          "text": [
            "a:\n",
            "[0. 1. 2.]\n",
            "\n",
            "b:\n",
            "[1. 1. 1.]\n",
            "\n",
            "a dot b:\n",
            "3.0\n",
            "\n"
          ]
        }
      ],
      "source": [
        "# Vector dot product\n",
        "a = np.arange(3).astype('float')\n",
        "b = np.ones(3)\n",
        "print_obj(a, \"a\")\n",
        "print_obj(b, \"b\")\n",
        "\n",
        "print_obj(np.dot(a, b), \"a dot b\")"
      ]
    },
    {
      "cell_type": "code",
      "execution_count": null,
      "metadata": {
        "id": "TPHTXs5oauzr",
        "colab": {
          "base_uri": "https://localhost:8080/"
        },
        "outputId": "a0255872-c6f0-4aa6-8cb5-af901d8de30f"
      },
      "outputs": [
        {
          "output_type": "stream",
          "name": "stdout",
          "text": [
            "a:\n",
            "[[0 1]\n",
            " [2 3]\n",
            " [4 5]]\n",
            "\n",
            "b:\n",
            "[[1. 1. 1.]\n",
            " [1. 1. 1.]]\n",
            "\n",
            "a dot b:\n",
            "[[1. 1. 1.]\n",
            " [5. 5. 5.]\n",
            " [9. 9. 9.]]\n",
            "\n",
            "a @ b:\n",
            "[[1. 1. 1.]\n",
            " [5. 5. 5.]\n",
            " [9. 9. 9.]]\n",
            "\n"
          ]
        }
      ],
      "source": [
        "# Matrix dot product, matrix multiplication\n",
        "a = np.arange(6).reshape((3, 2))\n",
        "b = np.ones((2, 3))\n",
        "print_obj(a, \"a\")\n",
        "print_obj(b, \"b\")\n",
        "\n",
        "print_obj(np.dot(a,b), \"a dot b\")\n",
        "print_obj(a@b, \"a @ b\")"
      ]
    },
    {
      "cell_type": "code",
      "execution_count": null,
      "metadata": {
        "id": "8ukdh-T6auzr",
        "colab": {
          "base_uri": "https://localhost:8080/"
        },
        "outputId": "88e97360-c5e6-4cb4-972d-f557c7358a22"
      },
      "outputs": [
        {
          "output_type": "stream",
          "name": "stdout",
          "text": [
            "a:\n",
            "[[[[ 0  1]\n",
            "   [ 2  3]\n",
            "   [ 4  5]]\n",
            "\n",
            "  [[ 6  7]\n",
            "   [ 8  9]\n",
            "   [10 11]]]\n",
            "\n",
            "\n",
            " [[[12 13]\n",
            "   [14 15]\n",
            "   [16 17]]\n",
            "\n",
            "  [[18 19]\n",
            "   [20 21]\n",
            "   [22 23]]]\n",
            "\n",
            "\n",
            " [[[24 25]\n",
            "   [26 27]\n",
            "   [28 29]]\n",
            "\n",
            "  [[30 31]\n",
            "   [32 33]\n",
            "   [34 35]]]\n",
            "\n",
            "\n",
            " [[[36 37]\n",
            "   [38 39]\n",
            "   [40 41]]\n",
            "\n",
            "  [[42 43]\n",
            "   [44 45]\n",
            "   [46 47]]]]\n",
            "\n",
            "b:\n",
            "[[[[1. 1. 1.]\n",
            "   [1. 1. 1.]]\n",
            "\n",
            "  [[1. 1. 1.]\n",
            "   [1. 1. 1.]]]\n",
            "\n",
            "\n",
            " [[[1. 1. 1.]\n",
            "   [1. 1. 1.]]\n",
            "\n",
            "  [[1. 1. 1.]\n",
            "   [1. 1. 1.]]]\n",
            "\n",
            "\n",
            " [[[1. 1. 1.]\n",
            "   [1. 1. 1.]]\n",
            "\n",
            "  [[1. 1. 1.]\n",
            "   [1. 1. 1.]]]\n",
            "\n",
            "\n",
            " [[[1. 1. 1.]\n",
            "   [1. 1. 1.]]\n",
            "\n",
            "  [[1. 1. 1.]\n",
            "   [1. 1. 1.]]]]\n",
            "\n",
            "a dot b:\n",
            "(4, 2, 3, 4, 2, 3)\n",
            "\n",
            "a @ b:\n",
            "(4, 2, 3, 3)\n",
            "\n",
            "c@d:\n",
            "(4, 3, 3)\n",
            "\n"
          ]
        }
      ],
      "source": [
        "# Tensor dot product, tensor multiplication\n",
        "# a = np.arange(24).reshape((4, 3, 2))\n",
        "# b = np.ones((4, 2, 3))\n",
        "a = np.arange(48).reshape((4, 2, 3, 2))\n",
        "b = np.ones((4, 2, 2, 3))\n",
        "\n",
        "print_obj(a, \"a\")\n",
        "print_obj(b, \"b\")\n",
        "\n",
        "print_obj(np.dot(a,b).shape, \"a dot b\")\n",
        "\n",
        "print_obj((a@b).shape, \"a @ b\")\n",
        "# skip first 4 -> (4, 3, 3)\n",
        "\n",
        "# usually learning process -> first element is batch element // 4 is mini batch, batch indexing\n",
        "\n",
        "# Quiz: what would happen if a.shape==(4,3,2) and b.shape==(2,3)?\n",
        "c = np.arange(24).reshape((4, 3, 2))\n",
        "d = np.ones((2, 3))# broadcasting\n",
        "print_obj((c@d).shape, \"c@d\")"
      ]
    },
    {
      "cell_type": "markdown",
      "metadata": {
        "id": "bfXb-wX5auzr"
      },
      "source": [
        "### Shape Manipulation"
      ]
    },
    {
      "cell_type": "code",
      "execution_count": null,
      "metadata": {
        "id": "Jhm8SDVoauzs",
        "colab": {
          "base_uri": "https://localhost:8080/"
        },
        "outputId": "28500a46-7045-42d2-c7d1-f6d978399813"
      },
      "outputs": [
        {
          "output_type": "stream",
          "name": "stdout",
          "text": [
            "a:\n",
            "[[[ 0  1  2  3]\n",
            "  [ 4  5  6  7]\n",
            "  [ 8  9 10 11]]\n",
            "\n",
            " [[12 13 14 15]\n",
            "  [16 17 18 19]\n",
            "  [20 21 22 23]]]\n",
            "\n",
            "b:\n",
            "[[ 0  1  2  3]\n",
            " [ 4  5  6  7]\n",
            " [ 8  9 10 11]\n",
            " [12 13 14 15]\n",
            " [16 17 18 19]\n",
            " [20 21 22 23]]\n",
            "\n",
            "c:\n",
            "[[ 0  1  2  3]\n",
            " [ 4  5  6  7]\n",
            " [ 8  9 10 11]\n",
            " [12 13 14 15]\n",
            " [16 17 18 19]\n",
            " [20 21 22 23]]\n",
            "\n",
            "d:\n",
            "[[[ 0]\n",
            "  [ 1]\n",
            "  [ 2]\n",
            "  [ 3]]\n",
            "\n",
            " [[ 4]\n",
            "  [ 5]\n",
            "  [ 6]\n",
            "  [ 7]]\n",
            "\n",
            " [[ 8]\n",
            "  [ 9]\n",
            "  [10]\n",
            "  [11]]\n",
            "\n",
            " [[12]\n",
            "  [13]\n",
            "  [14]\n",
            "  [15]]\n",
            "\n",
            " [[16]\n",
            "  [17]\n",
            "  [18]\n",
            "  [19]]\n",
            "\n",
            " [[20]\n",
            "  [21]\n",
            "  [22]\n",
            "  [23]]]\n",
            "\n"
          ]
        }
      ],
      "source": [
        "# Reshapes\n",
        "a = np.arange(24).reshape((2, 3, 4))\n",
        "print_obj(a, \"a\")\n",
        "\n",
        "b = a.reshape((6, 4))\n",
        "print_obj(b, \"b\")\n",
        "\n",
        "c = a.reshape((6, -1))# -1 : machine figure out\n",
        "print_obj(c, \"c\")\n",
        "\n",
        "# Quiz: What would d=a.reshape((6, 4, -1)) look like?\n",
        "d=a.reshape((6, 4, -1))\n",
        "print_obj(d, \"d\")# (6,4,1)"
      ]
    },
    {
      "cell_type": "code",
      "execution_count": null,
      "metadata": {
        "id": "WIs2MWd6auzs",
        "colab": {
          "base_uri": "https://localhost:8080/"
        },
        "outputId": "873cf7c7-6cb4-4d7f-aa39-e12e5abc6e87"
      },
      "outputs": [
        {
          "output_type": "stream",
          "name": "stdout",
          "text": [
            "a:\n",
            "[0 1 2]\n",
            "\n",
            "a[:, None]:\n",
            "[[0]\n",
            " [1]\n",
            " [2]]\n",
            "\n",
            "c:\n",
            "[[[[1. 1. 1. 1.]]]\n",
            "\n",
            "\n",
            " [[[1. 1. 1. 1.]]]\n",
            "\n",
            "\n",
            " [[[1. 1. 1. 1.]]]]\n",
            "\n"
          ]
        }
      ],
      "source": [
        "# Adding an extra dimension\n",
        "a = np.arange(3)\n",
        "print_obj(a, \"a\")\n",
        "\n",
        "print_obj(a[:, None], \"a[:, None]\")#(3,1)\n",
        "\n",
        "# Quiz: How to make a = np.ones((3,4)) into shape (3, 1, 1, 4) using reshape and None?\n",
        "b = np.ones((3,4))\n",
        "c = b[:, None, None, :]\n",
        "print_obj(c, \"c\")"
      ]
    },
    {
      "cell_type": "code",
      "execution_count": null,
      "metadata": {
        "id": "PHsTIJcYauzs",
        "colab": {
          "base_uri": "https://localhost:8080/"
        },
        "outputId": "d840a445-e0c0-43d8-8b2b-8feae6292d7a"
      },
      "outputs": [
        {
          "output_type": "stream",
          "name": "stdout",
          "text": [
            "a:\n",
            "[[1. 1.]\n",
            " [1. 1.]\n",
            " [1. 1.]]\n",
            "\n",
            "b:\n",
            "[[0. 0.]\n",
            " [0. 0.]\n",
            " [0. 0.]]\n",
            "\n",
            "a,b vstack:\n",
            "[[1. 1.]\n",
            " [1. 1.]\n",
            " [1. 1.]\n",
            " [0. 0.]\n",
            " [0. 0.]\n",
            " [0. 0.]]\n",
            "\n",
            "a,b hstack:\n",
            "[[1. 1. 0. 0.]\n",
            " [1. 1. 0. 0.]\n",
            " [1. 1. 0. 0.]]\n",
            "\n",
            "a,b,a hstack:\n",
            "[[1. 1. 0. 0. 1. 1.]\n",
            " [1. 1. 0. 0. 1. 1.]\n",
            " [1. 1. 0. 0. 1. 1.]]\n",
            "\n",
            "a,b concat axis=0:\n",
            "[[1. 1.]\n",
            " [1. 1.]\n",
            " [1. 1.]\n",
            " [0. 0.]\n",
            " [0. 0.]\n",
            " [0. 0.]]\n",
            "\n",
            "a,b concat axis=1:\n",
            "[[1. 1. 0. 0.]\n",
            " [1. 1. 0. 0.]\n",
            " [1. 1. 0. 0.]]\n",
            "\n"
          ]
        },
        {
          "output_type": "execute_result",
          "data": {
            "text/plain": [
              "array([[[1., 1., 1., 0., 0.],\n",
              "        [1., 1., 1., 0., 0.],\n",
              "        [1., 1., 1., 0., 0.],\n",
              "        [1., 1., 1., 0., 0.]],\n",
              "\n",
              "       [[1., 1., 1., 0., 0.],\n",
              "        [1., 1., 1., 0., 0.],\n",
              "        [1., 1., 1., 0., 0.],\n",
              "        [1., 1., 1., 0., 0.]],\n",
              "\n",
              "       [[1., 1., 1., 0., 0.],\n",
              "        [1., 1., 1., 0., 0.],\n",
              "        [1., 1., 1., 0., 0.],\n",
              "        [1., 1., 1., 0., 0.]],\n",
              "\n",
              "       [[1., 1., 1., 0., 0.],\n",
              "        [1., 1., 1., 0., 0.],\n",
              "        [1., 1., 1., 0., 0.],\n",
              "        [1., 1., 1., 0., 0.]],\n",
              "\n",
              "       [[1., 1., 1., 0., 0.],\n",
              "        [1., 1., 1., 0., 0.],\n",
              "        [1., 1., 1., 0., 0.],\n",
              "        [1., 1., 1., 0., 0.]]])"
            ]
          },
          "metadata": {},
          "execution_count": 79
        }
      ],
      "source": [
        "# Stack, concatenation\n",
        "a = np.ones((3,2))\n",
        "b = np.zeros((3,2))\n",
        "print_obj(a, \"a\")\n",
        "print_obj(b, \"b\")\n",
        "\n",
        "print_obj(np.vstack([a, b]), \"a,b vstack\") # vertical\n",
        "print_obj(np.hstack([a, b]), \"a,b hstack\") # horizontal\n",
        "print_obj(np.hstack([a, b, a]), \"a,b,a hstack\")\n",
        "\n",
        "print_obj(np.concatenate([a, b], axis=0), \"a,b concat axis=0\") # row wise\n",
        "print_obj(np.concatenate([a, b], axis=1), \"a,b concat axis=1\") # column wise\n",
        "\n",
        "# Quiz: Would concatenating two tensors whose shapes are (4, 3, 2) and (5, 4, 2) on axis=2 work?\n",
        "# Answer : No, remaining dim does not match (5,4,3) (5,4,2) <- so, target dim does not matter\n",
        "\n",
        "c = np.ones((5,4,3))\n",
        "d = np.zeros((5,4,2))\n",
        "np.concatenate([c,d], axis=2)"
      ]
    },
    {
      "cell_type": "code",
      "execution_count": null,
      "metadata": {
        "id": "oB3csHX9auzs",
        "colab": {
          "base_uri": "https://localhost:8080/"
        },
        "outputId": "21f02b05-ede3-4908-cab1-3c45456e58fa"
      },
      "outputs": [
        {
          "output_type": "stream",
          "name": "stdout",
          "text": [
            "a:\n",
            "[[0 1]\n",
            " [2 3]\n",
            " [4 5]]\n",
            "\n",
            "a.T:\n",
            "[[0 2 4]\n",
            " [1 3 5]]\n",
            "\n"
          ]
        }
      ],
      "source": [
        "# Matrix transpose\n",
        "a = np.arange(6).reshape((3, 2))\n",
        "print_obj(a, \"a\")\n",
        "\n",
        "print_obj(a.T, \"a.T\")"
      ]
    },
    {
      "cell_type": "code",
      "execution_count": null,
      "metadata": {
        "id": "_QTVPk9Rauzs",
        "colab": {
          "base_uri": "https://localhost:8080/"
        },
        "outputId": "5af8a085-0ec6-4a74-b864-783b0f369a0d"
      },
      "outputs": [
        {
          "output_type": "stream",
          "name": "stdout",
          "text": [
            "a:\n",
            "[[[ 0  1]\n",
            "  [ 2  3]\n",
            "  [ 4  5]]\n",
            "\n",
            " [[ 6  7]\n",
            "  [ 8  9]\n",
            "  [10 11]]\n",
            "\n",
            " [[12 13]\n",
            "  [14 15]\n",
            "  [16 17]]\n",
            "\n",
            " [[18 19]\n",
            "  [20 21]\n",
            "  [22 23]]]\n",
            "\n",
            "Swap axis 1 and 2:\n",
            "[[[ 0  2  4]\n",
            "  [ 1  3  5]]\n",
            "\n",
            " [[ 6  8 10]\n",
            "  [ 7  9 11]]\n",
            "\n",
            " [[12 14 16]\n",
            "  [13 15 17]]\n",
            "\n",
            " [[18 20 22]\n",
            "  [19 21 23]]]\n",
            "\n",
            "b's shape:\n",
            "(4, 2, 3)\n",
            "\n",
            "Swap axis 0 and 1:\n",
            "[[[ 0  1]\n",
            "  [ 6  7]\n",
            "  [12 13]\n",
            "  [18 19]]\n",
            "\n",
            " [[ 2  3]\n",
            "  [ 8  9]\n",
            "  [14 15]\n",
            "  [20 21]]\n",
            "\n",
            " [[ 4  5]\n",
            "  [10 11]\n",
            "  [16 17]\n",
            "  [22 23]]]\n",
            "\n",
            "c's shape:\n",
            "(3, 4, 2)\n",
            "\n"
          ]
        }
      ],
      "source": [
        "# Tensor transpose\n",
        "# swaping btw rows and columns\n",
        "a = np.arange(24).reshape((4, 3, 2))\n",
        "print_obj(a, \"a\")\n",
        "\n",
        "b = np.transpose(a, [0, 2, 1]) # (4, 2, 3)\n",
        "print_obj(b, \"Swap axis 1 and 2\")\n",
        "print_obj(b.shape, \"b's shape\")\n",
        "\n",
        "c = np.transpose(a, [1, 0, 2]) # (3, 4, 2)\n",
        "print_obj(c, \"Swap axis 0 and 1\")\n",
        "print_obj(c.shape, \"c's shape\")"
      ]
    },
    {
      "cell_type": "markdown",
      "metadata": {
        "id": "lAhTkHeLauzt"
      },
      "source": [
        "### Broadcasting"
      ]
    },
    {
      "cell_type": "code",
      "execution_count": null,
      "metadata": {
        "id": "wNEuAdQmauzt",
        "colab": {
          "base_uri": "https://localhost:8080/"
        },
        "outputId": "aaf5e8d4-ab52-409e-adcc-ea3110485c8d"
      },
      "outputs": [
        {
          "output_type": "stream",
          "name": "stdout",
          "text": [
            "a:\n",
            "[0 1 2]\n",
            "\n",
            "a+b:\n",
            "[2. 3. 4.]\n",
            "\n",
            "a-b:\n",
            "[-2. -1.  0.]\n",
            "\n",
            "a*b:\n",
            "[0. 2. 4.]\n",
            "\n",
            "a/b:\n",
            "[0.  0.5 1. ]\n",
            "\n"
          ]
        }
      ],
      "source": [
        "# Vector and scalar\n",
        "a = np.arange(3)\n",
        "b = 2.\n",
        "# b = np.array([2., 2., 2.])\n",
        "print_obj(a, \"a\")\n",
        "\n",
        "print_obj(a+b, \"a+b\")\n",
        "print_obj(a-b, \"a-b\")\n",
        "print_obj(a*b, \"a*b\")\n",
        "print_obj(a/b, \"a/b\")"
      ]
    },
    {
      "cell_type": "code",
      "execution_count": null,
      "metadata": {
        "id": "acxUC_tbauzt",
        "colab": {
          "base_uri": "https://localhost:8080/"
        },
        "outputId": "f84cde93-d111-4f2f-c61b-87349d3e6ba6"
      },
      "outputs": [
        {
          "output_type": "stream",
          "name": "stdout",
          "text": [
            "a:\n",
            "[[0 1]\n",
            " [2 3]\n",
            " [4 5]]\n",
            "\n",
            "a+b:\n",
            "[[1 3]\n",
            " [3 5]\n",
            " [5 7]]\n",
            "\n",
            "c:\n",
            "[[1 2]]\n",
            "\n",
            "a+c:\n",
            "[[1 3]\n",
            " [3 5]\n",
            " [5 7]]\n",
            "\n"
          ]
        }
      ],
      "source": [
        "# Matrix and vector\n",
        "a = np.arange(6).reshape((3,2))\n",
        "b = np.arange(2).reshape(2) + 1\n",
        "print_obj(a, \"a\")\n",
        "# print_obj(b, \"b\")\n",
        "\n",
        "# b = np.array([[1,2],[1,2],[1,2]])\n",
        "\n",
        "print_obj(a+b, \"a+b\")\n",
        "\n",
        "# Quiz: What would happen if b were np.arange(2).reshape((2, 1))? How about np.arange(2).reshape((1, 2))?\n",
        "# c = np.arange(2).reshape((2,1)) + 1\n",
        "c = np.arange(2).reshape((1,2)) + 1\n",
        "\n",
        "print_obj(c, \"c\")\n",
        "\n",
        "# print_obj(a+c, \"a+c\") # error\n",
        "print_obj(a+c, \"a+c\") # success for broadcasting\n"
      ]
    },
    {
      "cell_type": "code",
      "execution_count": null,
      "metadata": {
        "id": "9fYCpXWxauzt",
        "colab": {
          "base_uri": "https://localhost:8080/"
        },
        "outputId": "b4ad80e5-8452-48c6-ea7a-b4abf2f3e081"
      },
      "outputs": [
        {
          "output_type": "stream",
          "name": "stdout",
          "text": [
            "a:\n",
            "[[[ 0  1]\n",
            "  [ 2  3]\n",
            "  [ 4  5]]\n",
            "\n",
            " [[ 6  7]\n",
            "  [ 8  9]\n",
            "  [10 11]]]\n",
            "\n",
            "b:\n",
            "[[0 1]]\n",
            "\n",
            "a+b:\n",
            "[[[ 0  2]\n",
            "  [ 2  4]\n",
            "  [ 4  6]]\n",
            "\n",
            " [[ 6  8]\n",
            "  [ 8 10]\n",
            "  [10 12]]]\n",
            "\n",
            "c+d:\n",
            "[[[ 0  2]\n",
            "  [ 4  6]\n",
            "  [ 8 10]]\n",
            "\n",
            " [[ 6  8]\n",
            "  [10 12]\n",
            "  [14 16]]]\n",
            "\n"
          ]
        }
      ],
      "source": [
        "# Tensor and matrix\n",
        "a = np.arange(12).reshape((2,3,2))\n",
        "# b = np.arange(6).reshape((3,2)) # 2\n",
        "b = np.arange(2).reshape((1,2)) # 2\n",
        "print_obj(a, \"a\")\n",
        "print_obj(b, \"b\")\n",
        "\n",
        "# b = np.array([[[0,1], [2,3], [4,5]], [[0,1], [2,3], [4,5]]])\n",
        "# b = np.array([1,2]) <- also broadcasting also work\n",
        "# last acces need to match\n",
        "\n",
        "print_obj(a+b, \"a+b\")\n",
        "\n",
        "#Quiz: How can we use None to do a+b?\n",
        "c = np.arange(12).reshape((2,3,2))\n",
        "d = np.arange(6).reshape((3,2))\n",
        "d = d[None,:,:]\n",
        "print_obj(c+d, \"c+d\")"
      ]
    },
    {
      "cell_type": "markdown",
      "metadata": {
        "id": "BPr0Tff7auzt"
      },
      "source": [
        "### Final Quiz"
      ]
    },
    {
      "cell_type": "code",
      "execution_count": null,
      "metadata": {
        "id": "LzZUwykqauzt",
        "colab": {
          "base_uri": "https://localhost:8080/",
          "height": 450
        },
        "outputId": "cb823873-5ce5-44a7-c204-aabb0a51bf15"
      },
      "outputs": [
        {
          "output_type": "stream",
          "name": "stdout",
          "text": [
            "[ 1  3  5  7  9 11 13 15 17 19]\n",
            "[[-0.7 -0.6 -0.5]\n",
            " [-0.1  0.   0.1]\n",
            " [ 0.5  0.6  0.7]\n",
            " [ 1.1  1.2  1.3]\n",
            " [ 1.7  1.8  1.9]\n",
            " [ 2.3  2.4  2.5]\n",
            " [ 2.9  3.   3.1]\n",
            " [ 3.5  3.6  3.7]\n",
            " [ 4.1  4.2  4.3]\n",
            " [ 4.7  4.8  4.9]]\n",
            "[ 0  2  4  6  8 10 12 14 16 18]\n",
            "[[-1.  -0.9 -0.8  2.   2.1  2.2 -0.7 -0.6 -0.5 -1.  -0.9 -0.8]\n",
            " [-0.7 -0.6 -0.5  2.3  2.4  2.5 -0.1  0.   0.1 -0.4 -0.3 -0.2]\n",
            " [-0.4 -0.3 -0.2  2.6  2.7  2.8  0.5  0.6  0.7  0.2  0.3  0.4]\n",
            " [-0.1  0.   0.1  2.9  3.   3.1  1.1  1.2  1.3  0.8  0.9  1. ]\n",
            " [ 0.2  0.3  0.4  3.2  3.3  3.4  1.7  1.8  1.9  1.4  1.5  1.6]\n",
            " [ 0.5  0.6  0.7  3.5  3.6  3.7  2.3  2.4  2.5  2.   2.1  2.2]\n",
            " [ 0.8  0.9  1.   3.8  3.9  4.   2.9  3.   3.1  2.6  2.7  2.8]\n",
            " [ 1.1  1.2  1.3  4.1  4.2  4.3  3.5  3.6  3.7  3.2  3.3  3.4]\n",
            " [ 1.4  1.5  1.6  4.4  4.5  4.6  4.1  4.2  4.3  3.8  3.9  4. ]\n",
            " [ 1.7  1.8  1.9  4.7  4.8  4.9  4.7  4.8  4.9  4.4  4.5  4.6]]\n",
            "2.7013292476222723\n"
          ]
        },
        {
          "output_type": "execute_result",
          "data": {
            "text/plain": [
              "'\\ndef foo(M, W):\\n    m = M.shape[0]\\n    X = np.hstack([M[:m//2], M[m//2:], M[1::2], M[::2]])  \\n    Y = sigmoid(X @ W)  \\n    return np.sum(Y.mean(axis=0))\\n'"
            ],
            "application/vnd.google.colaboratory.intrinsic+json": {
              "type": "string"
            }
          },
          "metadata": {},
          "execution_count": 132
        }
      ],
      "source": [
        "def sigmoid(x):\n",
        "    return 1./(1. + np.exp(-x))\n",
        "\n",
        "# Define a function that, given M of shape (m,n) and W of shape (4n, n), executes the following (assume m is an even number):\n",
        "# - Take the first half rows of M\n",
        "# - Take the second half rows of M\n",
        "# - Take the odd-numbered rows of M\n",
        "# - Take the even-numbered rows of M\n",
        "# - Append them horizontally in the listed order so that you obtain a matrix X of shape (?, 4n)\n",
        "# - Linearly transform X with W so that you obtain a matrix Y of shape (?, ?)\n",
        "# - Put Y through the sigmoid function\n",
        "# - Obtain the sum of the mean of each column\n",
        "def foo(M, W):\n",
        "    m = M.shape[0]\n",
        "    fhrM = M[:(m//2)]\n",
        "    shrM = M[(m//2):]\n",
        "    list1 = np.arange(1, (m//2)+1)*2-1\n",
        "    print(list1)\n",
        "    onrM = M[list1].reshape(((m//2),-1))\n",
        "    print(onrM)\n",
        "    list2 = np.arange(0, (m//2))*2\n",
        "    print(list2)\n",
        "    enrM = M[list2].reshape(((m//2),-1))\n",
        "    X = np.concatenate([fhrM, shrM, onrM, enrM], axis=1)\n",
        "    # print(X)\n",
        "    res = sigmoid(X @ W)\n",
        "    res2 = res.mean(axis=0)\n",
        "    res3 = np.sum(res2)\n",
        "\n",
        "    return res3\n",
        "\n",
        "M = (np.arange(60).reshape((20,3)).astype('float') - 10.) / 10\n",
        "W = np.arange(36).reshape(12,3).astype('float') / 10.\n",
        "\n",
        "# 2.7013292476222723\n",
        "res = foo(M, W)\n",
        "print(res)\n",
        "\n",
        "\"\"\"\n",
        "def foo(M, W):\n",
        "    m = M.shape[0]\n",
        "    X = np.hstack([M[:m//2], M[m//2:], M[1::2], M[::2]])\n",
        "    Y = sigmoid(X @ W)\n",
        "    return np.sum(Y.mean(axis=0))\n",
        "\"\"\""
      ]
    },
    {
      "cell_type": "code",
      "source": [
        "(m, n) = M.shape\n",
        "m"
      ],
      "metadata": {
        "id": "0r4YXZQBKEgi",
        "outputId": "ee005d29-c834-40da-93b5-adef7ee359d8",
        "colab": {
          "base_uri": "https://localhost:8080/"
        }
      },
      "execution_count": null,
      "outputs": [
        {
          "output_type": "execute_result",
          "data": {
            "text/plain": [
              "20"
            ]
          },
          "metadata": {},
          "execution_count": 134
        }
      ]
    },
    {
      "cell_type": "code",
      "source": [
        "from scipy.stats import binom\n",
        "\n",
        "n = 35  # number of users\n",
        "p = 0.10  # probability that a user is active\n",
        "\n",
        "# Calculate the probability that 10 or fewer users are active\n",
        "cumulative_prob = binom.cdf(10, n, p)\n",
        "\n",
        "# Calculate the probability that more than 10 users are active\n",
        "prob_more_than_10 = 1 - cumulative_prob\n",
        "\n",
        "print(prob_more_than_10)"
      ],
      "metadata": {
        "id": "GZFzbGcEKHYd",
        "outputId": "187c5828-debb-4b52-d07c-760dcfa87a2e",
        "colab": {
          "base_uri": "https://localhost:8080/"
        }
      },
      "execution_count": 1,
      "outputs": [
        {
          "output_type": "stream",
          "name": "stdout",
          "text": [
            "0.0004242975954508177\n"
          ]
        }
      ]
    }
  ],
  "metadata": {
    "kernelspec": {
      "display_name": "Python 3",
      "name": "python3"
    },
    "language_info": {
      "codemirror_mode": {
        "name": "ipython",
        "version": 3
      },
      "file_extension": ".py",
      "mimetype": "text/x-python",
      "name": "python",
      "nbconvert_exporter": "python",
      "pygments_lexer": "ipython3",
      "version": "3.7.6"
    },
    "colab": {
      "provenance": [],
      "gpuType": "T4"
    },
    "accelerator": "GPU"
  },
  "nbformat": 4,
  "nbformat_minor": 0
}